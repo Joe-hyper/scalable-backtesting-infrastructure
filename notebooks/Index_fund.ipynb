{
 "cells": [
  {
   "cell_type": "code",
   "execution_count": null,
   "metadata": {},
   "outputs": [],
   "source": [
    "# Fetch Crypto Data\n",
    "\n",
    "\n",
    "import requests\n",
    "import pandas as pd\n",
    "\n",
    "def fetch_crypto_data():\n",
    "    url = \"https://api.coingecko.com/api/v3/coins/markets\"\n",
    "    params = {\n",
    "        'vs_currency': 'usd',\n",
    "        'order': 'market_cap_desc',\n",
    "        'per_page': 20,\n",
    "        'page': 1,\n",
    "        'sparkline': 'false'\n",
    "    }\n",
    "    response = requests.get(url, params=params)\n",
    "    data = response.json()\n",
    "    return data\n",
    "\n",
    "crypto_data = fetch_crypto_data()\n",
    "crypto_data[:3]  # Display first 3 entries for verification\n"
   ]
  },
  {
   "cell_type": "code",
   "execution_count": null,
   "metadata": {},
   "outputs": [],
   "source": [
    "# Filter and Select Top 10 Cryptos (Excluding Stable Coins)\n",
    "\n",
    "def filter_stable_coins(data):\n",
    "    stable_coins = [\"tether\", \"usd-coin\", \"binance-usd\"]\n",
    "    filtered_data = [coin for coin in data if coin['id'] not in stable_coins]\n",
    "    return filtered_data\n",
    "\n",
    "filtered_data = filter_stable_coins(crypto_data)\n",
    "top_10_cryptos = filtered_data[:10]  # Select top 10\n",
    "\n",
    "for crypto in top_10_cryptos:\n",
    "    print(f\"{crypto['name']}: Market Cap = ${crypto['market_cap']}\")\n"
   ]
  },
  {
   "cell_type": "code",
   "execution_count": null,
   "metadata": {},
   "outputs": [],
   "source": [
    "# Calculate Monthly Rebalancing\n",
    "\n",
    "def calculate_weights(cryptos):\n",
    "    total_market_cap = sum([crypto['market_cap'] for crypto in cryptos])\n",
    "    for crypto in cryptos:\n",
    "        crypto['weight'] = crypto['market_cap'] / total_market_cap\n",
    "    return cryptos\n",
    "\n",
    "def rebalance_index():\n",
    "    data = fetch_crypto_data()\n",
    "    filtered_data = filter_stable_coins(data)\n",
    "    top_10_cryptos = filtered_data[:10]\n",
    "    weighted_cryptos = calculate_weights(top_10_cryptos)\n",
    "    return weighted_cryptos\n",
    "\n",
    "rebalanced_index = rebalance_index()\n",
    "\n",
    "for crypto in rebalanced_index:\n",
    "    print(f\"{crypto['name']} ({crypto['symbol']}): Weight = {crypto['weight']*100:.2f}%\")\n"
   ]
  },
  {
   "cell_type": "code",
   "execution_count": null,
   "metadata": {},
   "outputs": [],
   "source": [
    "# Automate Monthly Rebalancing\n",
    "\n",
    "import schedule\n",
    "import time\n",
    "\n",
    "def job():\n",
    "    rebalanced_index = rebalance_index()\n",
    "    # Save or update your index data (e.g., save to a CSV file)\n",
    "    df = pd.DataFrame(rebalanced_index)\n",
    "    df.to_csv('data/crypto_index.csv', index=False)\n",
    "    print(\"Index rebalanced and saved.\")\n",
    "\n",
    "# Schedule the job to run on the first day of every month\n",
    "schedule.every().month.at(\"00:00\").do(job)\n",
    "\n",
    "while True:\n",
    "    schedule.run_pending()\n",
    "    time.sleep(1)\n"
   ]
  }
 ],
 "metadata": {
  "language_info": {
   "name": "python"
  }
 },
 "nbformat": 4,
 "nbformat_minor": 2
}
